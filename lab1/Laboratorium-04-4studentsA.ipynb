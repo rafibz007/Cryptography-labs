{
 "cells": [
  {
   "cell_type": "markdown",
   "metadata": {},
   "source": [
    "# Kryptografia klasyczna (od starożytności do czasów współczesnych)\n",
    "### Literatura:\n",
    "1. Księga szyfrów, Simon Singh, Świat książki, 2001\n",
    "2. Łamacze kodów, David Kahn, WNT, 2004"
   ]
  },
  {
   "cell_type": "markdown",
   "metadata": {},
   "source": [
    "## Szyfr Cezara\n",
    "--------------\n",
    "Szyfr Cezara oczywiście nie zawdzięcza swego istnienia Juliuszowi Cezarowi. Został przezeń jedynie wspomniany w pamiętnikach o wojnach galijskich. Prawdopodobnie była to dobrze znana metoda w tym czasie."
   ]
  },
  {
   "cell_type": "code",
   "execution_count": null,
   "metadata": {},
   "outputs": [],
   "source": [
    "plaintext = \"zorroflyzealotryzipper\"\n",
    "#plaintext = \"tobeornottobethatisthequestionwhethertisnoblerinthemindtosuffertheslingsandarrowsofoutrageousfortuneortotakearmsagainstaseaoftroublesandbyopposingendthem\"\n",
    "#plaintext = \"inaholeinthegroundtherelivedahobbitnotanastydirtywetholefilledwiththeendsofwormsandanoozysmellnoryetadrybaresandyholewithnothinginittositdowonortoeatitwasahobbitholeandthatmeanscomfortithadaperfectlyrounddoorlikeaportholepaintedgreenwithashinyyellowbrassknobintheexactmiddlethedooropenedontoatubeshapedhalllikeatunnelaverycomfortabletunnelwithoutsmokewithpanelledwallsandfloorstiledandcarpetedprovidedwithpolishedchairsandlotsandlotsofpegsforhatsandcoatsthehobbitwasfondofvisitorsthetunnelwoundonandongoingfairlybutnotquitestraightintothesideofthehillthehillasallthepeopleformanymilesroundcalleditandmanylittlerounddoorsopenedoutofitfirstononesideandthenonanothernogoingupstairsforthehobbitbedroomsbathroomscellarspantrieslotsofthesewardrobeshehadwholeroomsdevotedtoclotheskitchensdiningroomsallwereonthesamefloorandindeedonthesamepassagethebestroomswereallonthelefthandsidegoinginfortheseweretheonlyonestohavewindowsdeepsetroundwindowslookingoverhisgardenandmeadowsbeyondslopingdowntotheriverthishobbitwasaverywelltodohobbitandhisnamewasbagginsthebagginseshadlivedintheneighbourhoodofthehillfortimeoutofmindandpeopleconsideredthemveryrespectablenotonlybecausemostofthemwererichbutalsobecausetheyneverhadanyadventuresordidanythingunexpectedyoucouldtellwhatabagginswouldsayonanyquestionwithoutthebotherofaskinghimthisisastoryofhowabagginshadanadventurefoundhimselfdoingandsayingthingsaltogetherunexpectedhemayhavelosttheneighboursrespectbuthegainedwellyouwillseewhetherhegainedanythingintheendthemotherofourparticularhobbitwhatisahobbitisupposehobbitsneedsomedescriptionnowadayssincetheyhavebecomerareandshyofthebigpeopleastheycallustheyareorwerealittlepeopleabouthalfourheightandsmallerthanthebeardeddwarveshobbitshavenobeardsthereislittleornomagicaboutthemexcepttheordinaryeverydaysortwhichhelpsthemtodisappearquietlyandquicklywhenlargestupidfolklikeyouandmecomeblunderingalongmakinganoiselikeelephantswhichtheycanhearamileofftheyareinclinedtobeatinthestomachtheydressinbrightcolourschieflygreenandyellowwearnoshoesbecausetheirfeetgrownaturalleatherysolesandthickwarmbrownhairlikethestuffontheirheadswhichiscurlyhavelongcleverbrownfingersgoodnaturedfacesandlaughdeepfruitylaughsespeciallyafterdinnerwhichtheyhavetwiceadaywhentheycangetitnowyouknowenoughtogoonwithasiwassayingthemotherofthishobbitofbilbobagginsthatiswasthefabulousbelladonnatookoneofthethreeremarkabledaughtersoftheoldtookheadofthehobbitswholivedacrossthewaterthesmallriverthatranatthefootofthehillitwasoftensaidinotherfamiliesthatlongagooneofthetookancestorsmusthavetakenafairywifethatwasofcourseabsurdbutcertainlytherewasstillsomethingnotentirelyhobbitlikeaboutthemandonceinawhilemembersofthetookclanwouldgoandhaveadventurestheydiscreetlydisappearedandthefamilyhusheditupbutthefactremainedthatthetookswerenotasrespectableasthebagginsesthoughtheywereundoubtedlyrichernotthatbelladonnatookeverhadanyadventuresaftershebecamemrsbungobagginsbungothatwasbilbosfatherbuiltthemostluxurioushobbitholeforherandpartlywithhermoneythatwastobefoundeitherunderthehilloroverthehilloracrossthewaterandtheretheyremainedtotheendoftheirdaysstillitisprobablethatbilboheronlysonalthoughhelookedandbehavedexactlylikeasecondeditionofhissolidandcomfortablefathergotsomethingabitqueerinhismakeupfromthetooksidesomethingthatonlywaitedforachancetocomeoutthechanceneverarriveduntilbilbobagginswasgrownupbeingaboutfiftyyearsoldorsoandlivinginthebeautifulhobbitholebuiltbyhisfatherwhichihavejustdescribedforyouuntilhehadinfactapparentlysettleddownimmovablybysomecuriouschanceonemorninglongagointhequietoftheworldwhentherewaslessnoiseandmoregreenandthehobbitswerestillnumerousandprosperousandbilbobagginswasstandingathisdoorafterbreakfastsmokinganenormouslongwoodenpipethatreachednearlydowntohiswoollytoesneatlybrushedgandalfcamebygandalfifyouhadheardonlyaquarterofwhatihaveheardabouthimandihaveonlyheardverylittleofallthereistohearyouwouldbepreparedforanysortiofremarkabletaletalesandadventuressproutedupallovertheplacewhereverhewentinthemostextraordinaryfashionhehadnotbeendownthatwayunderthehillforagesandagesnotsincehisfriendtheoldtookdiedinfactandthehobbitshadalmostforgottenwhathelookedlikehehadbeenawayoverthehillandacrossthewateronbusinessofhisownsincetheywereallsmallhobbitboysandhobbitgirlsallthattheunsuspectingbilbosawthatmorningwasanoldmanwithastaffhehadatallpointedbluehatalonggreycloakasilverscarfoverwhichawhitebeardhungdownbelowhiswaistandimmenseblackbootsgoodmorningsaidbilboandhemeantitthesunwasshiningandthegrasswasverygreenbutgandalflookedathimfromunderlongbushyeyebrowsthatstuckoutfurtherthanthebrimofhisshadyhatwhatdoyoumeanhesaiddoyouwishmeagoodmorningormeanthatitisagoodmorningwhetheriwantnotorthatyoufeelgoodthismorningorthatitismorningtobegoodonallofthematoncesaidbilboandaveryfinemorningforapipeoftobaccooutofdoorsintothebargainifyouhaveapipeaboutyousitdownandhaveafillofminetheresnohurrywehaveallthedaybeforeusthenbilbosatdownonaseatbyhisdoorcrossedhislegsandblewoutabeautifulgreyringofsmokethatsailedupintotheairwithoutbreakingandfloatedawayoverthehillveryprettysaidgandalfbutihavenotimetoblowsmokeringsthismorningiamlookingforsomeonetoshareinanadventurethatiamarranginganditsverydifficulttofindanyoneishouldthinksointhesepartsweareplainquietfolkandhavenouseforadventuresnastydisturbinguncomfortablethingsmakeyoulatefordinnericantthinkwhatanybodyseesinthemsaidourmrbagginsandstuckonethumbbehindhisbracesandblewoutanotherevenbiggersmokeringthenhetookouthismorninglettersandbegintoreadpretendingtotakenomorenoticeoftheoldmanhehaddecidedthathewasnotquitehissortandwantedhimtogoawaybuttheoldmandidnotmovehestoodleaningonhisstickandgazingatthehobbitwithoutsayinganythingtillbilbogotquiteuncomfortableandevenalittlecrossgoodmorninghesaidatlastwedontwantanyadventuresherethankyouyoumighttryoverthehilloracrossthewaterbythishemeantthattheconversationwasatanendwhatalotofthingsyoudousegoodmorningforsaidgandalfnowyoumeanthatyouwanttogetridofmeandthatitwontbegoodtillimoveoffnotatallnotatallmydearsirletmeseeidontthinkiknowyournameyesyesmydearsirandidoknowyournamemrbilbobagginsandyoudoknowmynamethoughyoudontrememberthatibelongtoitiamgandalfandgandalfmeansmetothinkthatishouldhavelivedtobegoodmorningedbybelladonnatookssonasifiwassellingbuttonsatthedoorgandalfgandalfgoodgraciousmenotthewanderingwizardthatgaveoldtookapairofmagicdiamondstudsthatfastenedthemselvesandnevercameundonetillorderednotthefellowwhousedtotellsuchwonderfultalesatpartiesaboutdragonsandgoblinsandgiantsandtherescueofprincessesandtheunexpectedluckofwidowssonsnotthemanthatusedtomakesuchparticularlyexcellentfireworksirememberthoseoldtookusedtohavethemonmidsummersevesplendidtheyusedtogouplikegreatliliesandsnapdragonsandlaburnumsoffireandhanginthetwilightalleveningyouwillnoticealreadythatmrbagginswasnotquitesoprosyashelikedtobelievealsothathewasveryfondofflowersdearmehewentonnotthegandalfwhowasresponsibleforsomanyquietladsandlassesgoingoffintotheblueformadadventuresanythingfromclimbingtreestovisitingelvesorsailinginshipssailingtoothershoresblessmelifeusedtobequiteinterimeanyouusedtoupsetthingsbadlyinthesepartsonceuponatimeibegyourpardonbutihadnoideayouwerestillinbusinesswhereelseshouldibesaidthewizardallthesameiampleasedtofindyouremembersomethingaboutmeyouseemtoremembermyfireworkskindlyatanyratelandthatisnotwithouthopeindeedforyouroldgrandfathertookssakeandforthesakeofpoorbelladonnaiwillgiveyouwhatyouaskedforibegyourpardonihaventaskedforanythingyesyouhavetwicenowmypardonigiveityouinfactiwillgosofarastosendyouonthisadventureveryamusingformeverygoodforyouandprofitabletooverylikelyifyouevergetoveritsorryidontwantanyadventuresthankyounottodaygoodmorningbutpleasecometoteaanytimeyoulikewhynottomorrowcometomorrowgoodbyewiththatthehobbitturnedandscuttledinsidehisroundgreendoorandshutitasquicklyashedarednottoseenrudewizardsafterallarewizardswhatonearthdidiaskhimtoteaforhesaidtohimselfashewenttothepantryhehadonlyjusthadbreakfastbuthethoughtacakeortwoandadrinkofsomethingwoulddohimgoodafterhisfrightgandalfinthemeantimewasstillstandingoutsidethedoorandlaughinglongbutquietlyafterawhilehesteppedupandwiththespikeofhisstaffscratchedaqueersignonthehobbitsbeautifulgreenfrontdoorthenhestrodeawayjustaboutthetimewhenbilbowasfinishinghissecondcakeandbeginningtothinkthathehadescapeadventuresverywellthenextdayhehadalmostforgottenaboutgandalfhedidnotrememberthingsverywellunlessheputthemdownonhisengagementtabletlikethisgandalfteawednesdayyesterdayhehadbeentooflusteredtodoanythingofthekindjustbeforeteatimetherecameatremendousringonthefrontdoorbellandthenherememberedherushedandputonthekettleandputoutanothercupandsaucerandanextracakeortwoandrantothedooriamsosorrytokeepyouwaitinghewasgoingtosaywhenhesawthatitwasnotgandalfatallitwasadwarfwithabluebeardtuckedintoagoldenbeltandverybrighteyesunderhisdarkgreenhoodassoonathedoorwasopenedhepushedinsidejustasifhehadbeenexpectedhehunghishoodedcloakonthenearestpeganddwalinatyourservicehesaidwithalowbowbilbobagginsatyourssaidthehobbittoosurprisedtoaskanyquestionsforthemomentwhenthesilencethatfollowedhadbecomeuncomfortableheaddediamjustabouttotaketeapraycomeandhavesomewithmealittlestiffperhapsbuthemeantitkindlyandwhatwouldyoudoifanuninviteddwarfcameandhunghisthingsupinyourhallwithoutawordofexplanationtheyhadnotbeenattablelonginfacttheyhadhardlyreachedthethirdcakewhentherecameanotherevenlouderringatthebellexcusemesaidthehobbitandoffhewenttothedoorsoyouhavegothereatlastwaswhathewasgoingtosaytogandalfthistimebutitwasnotgandalfinsteadtherewasaveryoldlookingdwarfonthestepwithawhitebeardandascarlethoodandhetoohoppedinsideassoonasthedoorwasopenjustasifhehadbeeninvitediseetheyhavebeguntoarrivealreadyhesaidwhenhecaughtsightofdwalinsgreenhoodhanginguphehunghisredonenexttoitandbalinatyourservicehesaidwithhishandonhisbreastthankyousaidbilbowithagaspitwasnotthecorrectthingtosaybuttheyhavebeguntoarrivehadflusteredhimbadlyhelikedvisitorsbuthelikedtoknowthembeforetheyarrivedandhepreferredtoaskthemhimselfhehadahorriblethoughtthatthecakesmightrunshortandthenheasthehostheknewhisdutyandstucktoithoweverpainfulhemighthavetogowithoutcomealonginandhavesometeahemanagedtosayaftertakingadeepbreathalittlebeerwouldsuitmebetterifitisallthesametoyoumygoodsirsaidbalinwiththewhitebeardbutidontmindsomecakeseedcakeifyouhaveanylotsbilbofoundhimselfansweringtohisownsurpriseandhefoundhimselfscuttlingofftootothecellartofillapintbeermugandtothepantrytofetchtwobeautifulroundseedcakeswhichhehadbakedthatafternoonforhisaftersuppermorselwhenhegotbackbalinanddwalinweretalkingatthetablelikeoldfriendsasamatteroffacttheywerebrothersbilboplumpeddownthebeerandthecakeinfrontofthemwhenloudcamearingatthebellagainandthenanotherringgandalfforcertainthistimehethoughtashepuffedalongthepassagebutitwasnotitwastwomoredwarvesbothwithbluehoodssilverbeltsandyellowbeardsandeachofthemcarriedabagoftoolsandaspadeintheyhoppedassoonasthedoorbegantoopenbilbowashardlysurprisedatallwhatcanidoforyoumydwarveshesaidkiliatyourservicesaidtheoneandfiliaddedtheotherandtheybothsweptofftheirbluehoodsandbowedatyoursandyourfamilysrepliedbilborememberinghismannersthistimedwalinandbalinherealreadyiseesaidkililetusjointhethrongthrongthoughtmrbagginsidontlikethesoundofthatireallymustsitdownforaminuteandcollectmywitsandhaveadrinkhehadonlyjusthadasipinthecornerwhilethefourdwarvessataroundthetableandtalkedaboutminesandgoldandtroubleswiththegoblinsandthedepredationsofdragonsandlotsofotherthingswhichhedidnotunderstandanddidnotwanttofortheysoundedmuchtooadventurouswhendingdongalingdanghisbellrangagainasifsomenaughtylittlehobbitboywastryingtopullthehandleoffsomeoneatthedoorhesaidblinkingsomefourishouldsaybythesoundsaidfilibesideswesawthemcomingalongbehindusinthedistancethepoorlittlehobbitsatdowninthehallandputhisheadinhishandsandwonderedwhathadhappenedandwhatwasgoingtohappenandwhethertheywouldallstaytosupperthenthebellrangagainlouderthaneverandhehadtoruntothedooritwasnotfourafteralltwasfiveanotherdwarfhadcomealongwhilehewaswonderinginthehallhehadhardlyturnedtheknobbexretheywereallinsidebowingandsayingatyourserviceoneafteranotherdorinoriorioinandgloinweretheirnamesandverysoontwopurplehoodsagreyhoodabrownhoodandawhitehoodwerehangingonthepegsandofftheymarchedwiththeirbroadhandsstuckintheirgoldandsilverbeltstojointheothersalreadyithadalmostbecomeathrongsomecalledforaleandsomeforporterandoneforcoffeeandallofthemforcakessothehobbitwaskeptverybusyforawhileabigjugofcoffeebadjustbeensetinthehearththeseedcakesweregoneandthedwarveswerestartingonaroundofbutteredsconeswhentherecamealoudknocknotaringbutahardrattatonthehobbitsbeautifulgreendoorsomebodywasbangingwithastickbilborushedalongthepassageveryangryandaltogetherbewilderedandbewutheredthiswasthemostawkwardwednesdayheeverrememberedhepulledopenthedoorwithajerkandtheyallfellinoneontopoftheothermoredwarvesfourmoreandtherewasgandalfbehindleaningonhisstaffandlaughinghehadmadequiteadentonthebeautifuldoorhehadalsobythewayknockedoutthesecretmarkthathehadputtherethemorningbeforecarefullycarefullyhesaiditisnotlikeyoubilbotokeepfriendswaitingonthematandthenopenthedoorlikeapopgunletmeintroducebifurbofurbomburandespeciallythorinatyourservicesaidbifurbofurandbomburstandinginarowthentheyhunguptwoyellowhoodsandapalegreenoneandalsoaskyblueonewithalongsilvertasselthislastbelongedtothorinanenormouslyimportantdwarfinfactnootherthanthegreatthorinoakenshieldhimselfwhowasnotatallpleasedatfallingflatonbilbosmatwithbifurbofurandbomburontopofhimforonethingbomburwasimmenselyfatandheavythorinindeedwasveryhaughtyandsaidnothingaboutservicebutpoormrbagginssaidhewassorrysomanytimesthatatlasthegruntedpraydontmentionitandstoppedfrowningnowweareallheresaidgandalflookingattherowofthirteenhoodsthebestdetachablepartyhoodsandhisownhathangingonthepegsquiteamerrygatheringihopethereissomethingleftforthelatecomerstoeatanddrinkwhatsthatteanothankyoualittleredwineithinkformeandformesaidthorinandraspberryjamandappletartsaidbifurandmincepiesandcheesesaidbofurandporkpieandsaladsaidbomburandmorecakesandaleandcoffeeifyoudontmindcalledtheotherdwarvesthroughthedoorputonafeweggstheresagoodfellowgandalfcalledafterhimasthehobbitstumpedofftothepantriesandjustbringoutthecoldchickenandpicklesseemstoknowasmuchabouttheinsideofmylardersasidomyselfthoughtmrbagginswhowasfeelingpositivelyflummoxedandwasbeginningtowonderwhetheramostwretchedadventurehadnotcomerightintohishousebythetimehehadgotallthebottlesanddishesandknivesandforksandglassesandplatesandspoonsandthingspileduponbigtrayshewasgettingveryhotandredinthefaceandannoyedconfusticateandbebotherthesedwarveshesaidaloudwhydonttheycomeandlendahandloandbeholdtherestoodbalinanddwalinatthedoorofthekitchenandfiliandkilibehindthemandbeforehecouldsayknifetheyhadwhiskedthetraysandacoupleofsmalltablesintotheparlourandsetouteverythingafreshgandalfsatattheheadofthepartywiththethirteendwarvesallroundandbilbosatonastoolatthefiresidenibblingatabiscuithisappetitewasquitetakenawayandtryingtolookasifthiswasallperfectlyordinaryandnotintheleastanadventurethedwarvesateandateandtalkedandtalkedandtimegotonatlasttheypushedtheirchairsbackandbilbomadeamovetocollecttheplatesandglassesisupposeyouwillallstaytosupperhesaidinhispolitestunpressingtonesofcoursesaidthorinandafterweshantgetthroughthebusinesstilllateandwemusthavesomemusicfirstnowtoclearup\""
   ]
  },
  {
   "cell_type": "code",
   "execution_count": null,
   "metadata": {},
   "outputs": [],
   "source": [
    "# Alfabet jawny i szyfrowy \n",
    "alphabet = ['a','b', 'c', 'd', 'e', 'f', 'g', 'h', 'i', 'j', 'k', 'l', 'm', 'n', 'o', 'p',\n",
    "            'q', 'r', 's', 't', 'u', 'v', 'w', 'x', 'y', 'z']\n",
    "\n",
    "\n",
    "cipherCaesar = \"\"\n",
    "\n",
    "key = 5 #przesunięcie permutacji czyli klucz szyfrowania \n",
    "\n",
    "print(\"Tekst jawny: \", plaintext)\n",
    "\n",
    "for text in plaintext:\n",
    "    for char in text:\n",
    "        cipherCaesar = cipherCaesar + alphabet[(alphabet.index(char) + key) % len(alphabet)] \n",
    "print(\"Szyfrogram: \",  cipherCaesar, \"(spacje usunięte)\")\n",
    "\n",
    "decodedtext = \"\"\n",
    "for text in cipherCaesar:\n",
    "    for char in text:\n",
    "        decodedtext = decodedtext + alphabet[(alphabet.index(char)- key) % len(alphabet)]\n",
    "print(\"Odszyfrowana wiadomość: \",  decodedtext,  \"(spacje usunięte)\")"
   ]
  },
  {
   "cell_type": "markdown",
   "metadata": {},
   "source": [
    "## Szyfr monoalfabetyczny: \n",
    "_danemu symbolowi alfabetu jawnego odpowiada dokładnie jeden i ten sam symbol alfabetu tajnego._"
   ]
  },
  {
   "cell_type": "markdown",
   "metadata": {},
   "source": [
    "### Zastanów się:\n",
    "1. Czy szyfr Cezara jest łatwy do złamania? Ile prób (testów przesunięć) trzeba aby złamać szyfr Cezara?\n",
    "2. Co to jest atak siłowy (__brute force__)?  \n",
    "3. Zaproponuj i zaimplementuj wariant szyfru Cezara, która wymaga wykonania większej liczby prób podczas ataku?  \n",
    "4. Oceń koszt ataku na ten wariant Cezara."
   ]
  },
  {
   "cell_type": "markdown",
   "metadata": {},
   "source": [
    "### Zadanie samodzielne dla studentów\n",
    "1. Napisz ,,ulepszony szyfr Cezara'' czyli monoalfabetyczny szyfr z tajną pemutacją alfabetu szufrowego\n",
    "2. Można wykorzystać funkcję random.permutation() z biblioteki numpy"
   ]
  },
  {
   "cell_type": "code",
   "execution_count": null,
   "metadata": {
    "scrolled": true
   },
   "outputs": [],
   "source": [
    "# lepszy Cezar\n",
    "import numpy as np\n",
    "\n",
    "\n"
   ]
  },
  {
   "cell_type": "markdown",
   "metadata": {},
   "source": [
    "## Kryptoanaliza szyfrów monoalfabetycznych\n",
    "\n",
    "Współcześnie kryptoanaliza szyfru Cezara jest trywialna. Można po prostu sprawdzić wszystkie 26 możliwych przesunięć. \n",
    "\n",
    "Szyfry monoalfabetyczne nie są także odporne na __kryptoanalizę statystyczną__. Znając rozkład częstości liter w tekstach napisanych w danym języku możemy odgadnąć przesunięcie obserwując minima i maxima w histogramach. \n",
    "\n",
    "W zasadzie kluczową sprawą w obu przypadkach jest znajomość języka, a w gruncie rzeczy alfabetu. "
   ]
  },
  {
   "cell_type": "markdown",
   "metadata": {},
   "source": [
    "### Zadanie samodzielne dla studentów\n",
    "1. Narysuj rozkład częstości występowania liter w języku angielskim (kod rysowania histogramu poniżej)"
   ]
  },
  {
   "cell_type": "code",
   "execution_count": null,
   "metadata": {},
   "outputs": [],
   "source": [
    "from matplotlib import pyplot as plt\n",
    "\n",
    "frequency = [0.080, 0.015, 0.030, 0.040, 0.130, 0.020, 0.015, 0.060, 0.065, 0.005, 0.005, 0.035, 0.030, 0.070, 0.080, 0.020, 0.002, 0.065, 0.060, 0.090, 0.030, 0.010, 0.015, 0.005, 0.020, 0.002]\n",
    "labels = np.arange(len(alphabet))\n",
    "plt.figure(figsize=(15,9))\n",
    "plt.bar(labels, frequency, alpha=0.5, edgecolor=\"green\")\n",
    "plt.xlabel('Alfabet')\n",
    "plt.xticks(np.arange(26), alphabet)\n",
    "plt.title(\"Język angielski\");\n",
    "plt.ylabel('Częstość występowania')\n",
    "plt.show()"
   ]
  },
  {
   "cell_type": "markdown",
   "metadata": {},
   "source": [
    "2. Dokonaj analizy częstości występowania liter w tekście jawnym i szyfrogramie (szyfr Cezara z dowolnym przesunięciem) dla tekstu w poniższym fragmencie kodu. Wyświetl wyniki podobnie jak powyżej. \n",
    "3. Dokonaj analizy częstości występowania liter w szyfrogramie wygenerowanym przez \"ulepszonego Cezara\""
   ]
  },
  {
   "cell_type": "code",
   "execution_count": null,
   "metadata": {
    "scrolled": false
   },
   "outputs": [],
   "source": []
  },
  {
   "cell_type": "markdown",
   "metadata": {},
   "source": [
    "### Ciekawostka: \n",
    "Automatyczna kryptoanaliza tekst zaszyfrowanego zwykłym Cezarem"
   ]
  },
  {
   "cell_type": "code",
   "execution_count": null,
   "metadata": {},
   "outputs": [],
   "source": [
    "!pip install nltk \n",
    "import nltk\n",
    "nltk.download('words')\n",
    "from nltk.corpus import words\n",
    "\n",
    "\n",
    "unique = []\n",
    "frequency = []\n",
    "psi = []\n",
    "key = 0\n",
    "value = 0.0\n",
    "exit = True\n",
    "\n",
    "ciphertext = \"odggd\".lower()\n",
    "\n",
    "alphabets = \"abcdefghijklmnopqrstuvwxyz\"\n",
    "\n",
    "english_frequency_prob = [0.080, 0.015, 0.030, 0.040, 0.130, 0.020, 0.015, 0.060, 0.065, 0.005, \n",
    "                          0.005, 0.035, 0.030, 0.070, 0.080, 0.020, 0.002, 0.065, 0.060, 0.090, \n",
    "                          0.030, 0.010, 0.015, 0.005, 0.020, 0.002]\n",
    "\n",
    "\n",
    "\n",
    "for char in ciphertext: #lista liter w szyfrogramie\n",
    "    if (char not in unique) and (char.isalpha()):\n",
    "        unique.append(char)\n",
    "        \n",
    "only_alphabets = [char for char in ciphertext if char.isalpha()]  #tylko litery\n",
    "\n",
    "for unique_char in unique: #częstość liter w tekście \n",
    "     frequency.append(ciphertext.count(unique_char) / (float)(len(only_alphabets)))\n",
    "\n",
    "for i in range(0,26): #oblicz dopasowanie\n",
    "    for unique_char in unique:\n",
    "         value = value + frequency[unique.index(unique_char)] * english_frequency_prob[alphabets.index(unique_char) - i]\n",
    "    psi.append(value)  \n",
    "    value = 0.0\n",
    "    \n",
    "sorted_psi = psi[:] # sortuj dopasowanie\n",
    "sorted_psi.sort(reverse=True)\n",
    "\n",
    "decoded_string = \"\"\n",
    "for i in range(0, 26):\n",
    "    key = psi.index(sorted_psi[i])\n",
    "    decoded_string = \"\"\n",
    "    for char in ciphertext:\n",
    "        if (char != ' '):\n",
    "            decoded_string = decoded_string + alphabets[alphabets.index(char) - key]\n",
    "        else:\n",
    "            decoded_string = decoded_string + \" \"\n",
    "            \n",
    "    print(\"Próba klucza: \", key, \" ....\", decoded_string)\n",
    "    \n",
    "    for word in decoded_string.split():\n",
    "        if word not in words.words(): #czy szyfrowanie ma sens\n",
    "            exit = False\n",
    "        else:\n",
    "            exit = True\n",
    "    if exit:\n",
    "        break\n",
    "        \n",
    "print(\"\\n\", \"Decoded string: \", decoded_string)"
   ]
  },
  {
   "cell_type": "markdown",
   "metadata": {},
   "source": [
    "## Podsumowanie \n",
    "Główną słabością szyfrów monoalfabetycznych jest stałość przekształcenia, dzięki czemu możliwe jest łatwe zaobserwowanie regularności.\n",
    "\n",
    "Rozwiązaniem może być zmiana alfabetów w trakcie szyfrowania. Dla uproszczenia wystarczy zmieniać jedynie porządek liter. \n",
    "\n",
    "### Zadanie samodzielne dla studentów\n",
    "1. Napisać program, który zmienia alfabet szyfrowania po każdej literze.\n",
    "_Co będzie potrzebne oprócz tekst jawnego?_\n",
    "2. Dokonaj analizy częstościowej szyfrogramu zaszyfrowanego szyfrem Vigenera\n"
   ]
  },
  {
   "cell_type": "code",
   "execution_count": null,
   "metadata": {},
   "outputs": [],
   "source": [
    "ciphertextVigener = \"\"\n",
    "key=\"klucz\"\n",
    "\n",
    "\n"
   ]
  },
  {
   "cell_type": "markdown",
   "metadata": {},
   "source": [
    "### Zastanów się:\n",
    "1. Sprawdź jak wygląda histogram szyfrogrami. \n",
    "2. Zastanów się jakie znaczenia ma długość klucza dla bezpieczeństwa szyfrowania.\n",
    "3. Czy powtarzanie klucza można wykorzystać dla potrzeb kryptoanalizy? \n",
    "4. Jaki klucz gwarantowałby bezpieczeństwo?\n",
    "5. Jaki rozkład częstości symboli szyfrogramu nie ujawni żadnych przydatnych danych kryptoanalitykowi? \n",
    "\n",
    "### Szyfr polialfabetyczny \n",
    "_Szyfr używający wielu alfabetów szyfrowych. W trakcie szyfrowania te same litery w tekście jawnym_\n",
    "\n",
    "### Szyfr doskonały (według Clouda Shannona):\n",
    "1. Jakie warunki musi spełniać szyfr-nie-do-złamania? "
   ]
  },
  {
   "cell_type": "markdown",
   "metadata": {},
   "source": [
    "## Zadanie (dodatkowe, na ocenę)\n",
    "1. Napisz notebook jupyter, które implementuje klasyczne szyfry mechaniczne: Enigma, szyfr Playfair, szyfr maszyny Lorenza. W sieci można łatwo znaleźć gotowe kody, wiec przy ocenie zwracam uwagę no dokładne omówienie kodu, przejrzystość, komentarze etc. "
   ]
  }
 ],
 "metadata": {
  "kernelspec": {
   "display_name": "Python 3 (ipykernel)",
   "language": "python",
   "name": "python3"
  },
  "language_info": {
   "codemirror_mode": {
    "name": "ipython",
    "version": 3
   },
   "file_extension": ".py",
   "mimetype": "text/x-python",
   "name": "python",
   "nbconvert_exporter": "python",
   "pygments_lexer": "ipython3",
   "version": "3.9.15"
  }
 },
 "nbformat": 4,
 "nbformat_minor": 1
}
